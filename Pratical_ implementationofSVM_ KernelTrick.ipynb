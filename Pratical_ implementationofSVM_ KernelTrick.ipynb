{
 "cells": [
  {
   "cell_type": "markdown",
   "id": "54010498-ff3a-4e80-a073-9531d567c829",
   "metadata": {},
   "source": [
    "# Pratical implementation of SVM Kernel Trick "
   ]
  },
  {
   "cell_type": "code",
   "execution_count": 54,
   "id": "9b2ee610-7a45-4a16-8bbe-f60fc382ac57",
   "metadata": {},
   "outputs": [],
   "source": [
    "# >> Using for non-linear datasets. \n",
    "# transform lower dimension to higher dimensions using kernal trick perform \n",
    "#some mathematical transformation on datasets"
   ]
  },
  {
   "cell_type": "code",
   "execution_count": 55,
   "id": "127eb2b3-c4bc-4d6c-acb6-f32f91f1260b",
   "metadata": {},
   "outputs": [],
   "source": [
    "import numpy as np\n",
    "import pandas as pd \n",
    "import seaborn as sns \n",
    "import matplotlib.pyplot as plt\n",
    "import plotly.express as px\n",
    "\n",
    "import warnings\n",
    "warnings.filterwarnings('ignore')"
   ]
  },
  {
   "cell_type": "code",
   "execution_count": 56,
   "id": "d0a23325-1f25-48d4-9fd8-f66d138ab1d6",
   "metadata": {},
   "outputs": [],
   "source": [
    "x = np.linspace(-6, 6, 100)\n",
    "y = np.sqrt(10**2-x**2)\n",
    "y = np.hstack([y, -y])\n",
    "x = np.hstack([x, -x])"
   ]
  },
  {
   "cell_type": "code",
   "execution_count": 57,
   "id": "a59259b7-22dd-47f4-94ca-a5df5c7f1226",
   "metadata": {},
   "outputs": [
    {
     "data": {
      "text/plain": [
       "array([-6.        , -5.87878788, -5.75757576, -5.63636364, -5.51515152,\n",
       "       -5.39393939, -5.27272727, -5.15151515, -5.03030303, -4.90909091,\n",
       "       -4.78787879, -4.66666667, -4.54545455, -4.42424242, -4.3030303 ,\n",
       "       -4.18181818, -4.06060606, -3.93939394, -3.81818182, -3.6969697 ,\n",
       "       -3.57575758, -3.45454545, -3.33333333, -3.21212121, -3.09090909,\n",
       "       -2.96969697, -2.84848485, -2.72727273, -2.60606061, -2.48484848,\n",
       "       -2.36363636, -2.24242424, -2.12121212, -2.        , -1.87878788,\n",
       "       -1.75757576, -1.63636364, -1.51515152, -1.39393939, -1.27272727,\n",
       "       -1.15151515, -1.03030303, -0.90909091, -0.78787879, -0.66666667,\n",
       "       -0.54545455, -0.42424242, -0.3030303 , -0.18181818, -0.06060606,\n",
       "        0.06060606,  0.18181818,  0.3030303 ,  0.42424242,  0.54545455,\n",
       "        0.66666667,  0.78787879,  0.90909091,  1.03030303,  1.15151515,\n",
       "        1.27272727,  1.39393939,  1.51515152,  1.63636364,  1.75757576,\n",
       "        1.87878788,  2.        ,  2.12121212,  2.24242424,  2.36363636,\n",
       "        2.48484848,  2.60606061,  2.72727273,  2.84848485,  2.96969697,\n",
       "        3.09090909,  3.21212121,  3.33333333,  3.45454545,  3.57575758,\n",
       "        3.6969697 ,  3.81818182,  3.93939394,  4.06060606,  4.18181818,\n",
       "        4.3030303 ,  4.42424242,  4.54545455,  4.66666667,  4.78787879,\n",
       "        4.90909091,  5.03030303,  5.15151515,  5.27272727,  5.39393939,\n",
       "        5.51515152,  5.63636364,  5.75757576,  5.87878788,  6.        ,\n",
       "        6.        ,  5.87878788,  5.75757576,  5.63636364,  5.51515152,\n",
       "        5.39393939,  5.27272727,  5.15151515,  5.03030303,  4.90909091,\n",
       "        4.78787879,  4.66666667,  4.54545455,  4.42424242,  4.3030303 ,\n",
       "        4.18181818,  4.06060606,  3.93939394,  3.81818182,  3.6969697 ,\n",
       "        3.57575758,  3.45454545,  3.33333333,  3.21212121,  3.09090909,\n",
       "        2.96969697,  2.84848485,  2.72727273,  2.60606061,  2.48484848,\n",
       "        2.36363636,  2.24242424,  2.12121212,  2.        ,  1.87878788,\n",
       "        1.75757576,  1.63636364,  1.51515152,  1.39393939,  1.27272727,\n",
       "        1.15151515,  1.03030303,  0.90909091,  0.78787879,  0.66666667,\n",
       "        0.54545455,  0.42424242,  0.3030303 ,  0.18181818,  0.06060606,\n",
       "       -0.06060606, -0.18181818, -0.3030303 , -0.42424242, -0.54545455,\n",
       "       -0.66666667, -0.78787879, -0.90909091, -1.03030303, -1.15151515,\n",
       "       -1.27272727, -1.39393939, -1.51515152, -1.63636364, -1.75757576,\n",
       "       -1.87878788, -2.        , -2.12121212, -2.24242424, -2.36363636,\n",
       "       -2.48484848, -2.60606061, -2.72727273, -2.84848485, -2.96969697,\n",
       "       -3.09090909, -3.21212121, -3.33333333, -3.45454545, -3.57575758,\n",
       "       -3.6969697 , -3.81818182, -3.93939394, -4.06060606, -4.18181818,\n",
       "       -4.3030303 , -4.42424242, -4.54545455, -4.66666667, -4.78787879,\n",
       "       -4.90909091, -5.03030303, -5.15151515, -5.27272727, -5.39393939,\n",
       "       -5.51515152, -5.63636364, -5.75757576, -5.87878788, -6.        ])"
      ]
     },
     "execution_count": 57,
     "metadata": {},
     "output_type": "execute_result"
    }
   ],
   "source": [
    "x"
   ]
  },
  {
   "cell_type": "code",
   "execution_count": 58,
   "id": "0345e3d7-ff76-470e-8101-e961cc453df9",
   "metadata": {},
   "outputs": [
    {
     "data": {
      "text/plain": [
       "array([ 8.        ,  8.08949029,  8.17620458,  8.26023032,  8.34164874,\n",
       "        8.42053548,  8.49696105,  8.57099129,  8.64268774,  8.71210804,\n",
       "        8.77930616,  8.84433277,  8.90723543,  8.96805882,  9.02684498,\n",
       "        9.08363345,  9.13846149,  9.19136417,  9.24237457,  9.29152383,\n",
       "        9.33884135,  9.38435484,  9.42809042,  9.47007272,  9.51032497,\n",
       "        9.54886904,  9.58572554,  9.62091386,  9.65445224,  9.68635783,\n",
       "        9.7166467 ,  9.74533394,  9.77243363,  9.79795897,  9.82192222,\n",
       "        9.84433479,  9.86520725,  9.88454935,  9.90237007,  9.9186776 ,\n",
       "        9.93347939,  9.94678218,  9.95859195,  9.96891403,  9.97775303,\n",
       "        9.98511289,  9.99099687,  9.99540758,  9.99834697,  9.99981634,\n",
       "        9.99981634,  9.99834697,  9.99540758,  9.99099687,  9.98511289,\n",
       "        9.97775303,  9.96891403,  9.95859195,  9.94678218,  9.93347939,\n",
       "        9.9186776 ,  9.90237007,  9.88454935,  9.86520725,  9.84433479,\n",
       "        9.82192222,  9.79795897,  9.77243363,  9.74533394,  9.7166467 ,\n",
       "        9.68635783,  9.65445224,  9.62091386,  9.58572554,  9.54886904,\n",
       "        9.51032497,  9.47007272,  9.42809042,  9.38435484,  9.33884135,\n",
       "        9.29152383,  9.24237457,  9.19136417,  9.13846149,  9.08363345,\n",
       "        9.02684498,  8.96805882,  8.90723543,  8.84433277,  8.77930616,\n",
       "        8.71210804,  8.64268774,  8.57099129,  8.49696105,  8.42053548,\n",
       "        8.34164874,  8.26023032,  8.17620458,  8.08949029,  8.        ,\n",
       "       -8.        , -8.08949029, -8.17620458, -8.26023032, -8.34164874,\n",
       "       -8.42053548, -8.49696105, -8.57099129, -8.64268774, -8.71210804,\n",
       "       -8.77930616, -8.84433277, -8.90723543, -8.96805882, -9.02684498,\n",
       "       -9.08363345, -9.13846149, -9.19136417, -9.24237457, -9.29152383,\n",
       "       -9.33884135, -9.38435484, -9.42809042, -9.47007272, -9.51032497,\n",
       "       -9.54886904, -9.58572554, -9.62091386, -9.65445224, -9.68635783,\n",
       "       -9.7166467 , -9.74533394, -9.77243363, -9.79795897, -9.82192222,\n",
       "       -9.84433479, -9.86520725, -9.88454935, -9.90237007, -9.9186776 ,\n",
       "       -9.93347939, -9.94678218, -9.95859195, -9.96891403, -9.97775303,\n",
       "       -9.98511289, -9.99099687, -9.99540758, -9.99834697, -9.99981634,\n",
       "       -9.99981634, -9.99834697, -9.99540758, -9.99099687, -9.98511289,\n",
       "       -9.97775303, -9.96891403, -9.95859195, -9.94678218, -9.93347939,\n",
       "       -9.9186776 , -9.90237007, -9.88454935, -9.86520725, -9.84433479,\n",
       "       -9.82192222, -9.79795897, -9.77243363, -9.74533394, -9.7166467 ,\n",
       "       -9.68635783, -9.65445224, -9.62091386, -9.58572554, -9.54886904,\n",
       "       -9.51032497, -9.47007272, -9.42809042, -9.38435484, -9.33884135,\n",
       "       -9.29152383, -9.24237457, -9.19136417, -9.13846149, -9.08363345,\n",
       "       -9.02684498, -8.96805882, -8.90723543, -8.84433277, -8.77930616,\n",
       "       -8.71210804, -8.64268774, -8.57099129, -8.49696105, -8.42053548,\n",
       "       -8.34164874, -8.26023032, -8.17620458, -8.08949029, -8.        ])"
      ]
     },
     "execution_count": 58,
     "metadata": {},
     "output_type": "execute_result"
    }
   ],
   "source": [
    "y"
   ]
  },
  {
   "cell_type": "code",
   "execution_count": 59,
   "id": "a3c13c2e-04e3-465b-8710-70f1f3f80224",
   "metadata": {},
   "outputs": [],
   "source": [
    "x1 = np.linspace(-6.0, 6.0, 100)\n",
    "y1 = np.sqrt(4**2 - x1**2)\n",
    "y1 = np.hstack([y1, -y1])\n",
    "x1 = np.hstack([x1, -x1])"
   ]
  },
  {
   "cell_type": "code",
   "execution_count": 60,
   "id": "0b934a53-ba46-4fd8-b038-90085f35daea",
   "metadata": {},
   "outputs": [
    {
     "data": {
      "text/plain": [
       "(array([-6.        , -5.87878788, -5.75757576, -5.63636364, -5.51515152,\n",
       "        -5.39393939, -5.27272727, -5.15151515, -5.03030303, -4.90909091,\n",
       "        -4.78787879, -4.66666667, -4.54545455, -4.42424242, -4.3030303 ,\n",
       "        -4.18181818, -4.06060606, -3.93939394, -3.81818182, -3.6969697 ,\n",
       "        -3.57575758, -3.45454545, -3.33333333, -3.21212121, -3.09090909,\n",
       "        -2.96969697, -2.84848485, -2.72727273, -2.60606061, -2.48484848,\n",
       "        -2.36363636, -2.24242424, -2.12121212, -2.        , -1.87878788,\n",
       "        -1.75757576, -1.63636364, -1.51515152, -1.39393939, -1.27272727,\n",
       "        -1.15151515, -1.03030303, -0.90909091, -0.78787879, -0.66666667,\n",
       "        -0.54545455, -0.42424242, -0.3030303 , -0.18181818, -0.06060606,\n",
       "         0.06060606,  0.18181818,  0.3030303 ,  0.42424242,  0.54545455,\n",
       "         0.66666667,  0.78787879,  0.90909091,  1.03030303,  1.15151515,\n",
       "         1.27272727,  1.39393939,  1.51515152,  1.63636364,  1.75757576,\n",
       "         1.87878788,  2.        ,  2.12121212,  2.24242424,  2.36363636,\n",
       "         2.48484848,  2.60606061,  2.72727273,  2.84848485,  2.96969697,\n",
       "         3.09090909,  3.21212121,  3.33333333,  3.45454545,  3.57575758,\n",
       "         3.6969697 ,  3.81818182,  3.93939394,  4.06060606,  4.18181818,\n",
       "         4.3030303 ,  4.42424242,  4.54545455,  4.66666667,  4.78787879,\n",
       "         4.90909091,  5.03030303,  5.15151515,  5.27272727,  5.39393939,\n",
       "         5.51515152,  5.63636364,  5.75757576,  5.87878788,  6.        ,\n",
       "         6.        ,  5.87878788,  5.75757576,  5.63636364,  5.51515152,\n",
       "         5.39393939,  5.27272727,  5.15151515,  5.03030303,  4.90909091,\n",
       "         4.78787879,  4.66666667,  4.54545455,  4.42424242,  4.3030303 ,\n",
       "         4.18181818,  4.06060606,  3.93939394,  3.81818182,  3.6969697 ,\n",
       "         3.57575758,  3.45454545,  3.33333333,  3.21212121,  3.09090909,\n",
       "         2.96969697,  2.84848485,  2.72727273,  2.60606061,  2.48484848,\n",
       "         2.36363636,  2.24242424,  2.12121212,  2.        ,  1.87878788,\n",
       "         1.75757576,  1.63636364,  1.51515152,  1.39393939,  1.27272727,\n",
       "         1.15151515,  1.03030303,  0.90909091,  0.78787879,  0.66666667,\n",
       "         0.54545455,  0.42424242,  0.3030303 ,  0.18181818,  0.06060606,\n",
       "        -0.06060606, -0.18181818, -0.3030303 , -0.42424242, -0.54545455,\n",
       "        -0.66666667, -0.78787879, -0.90909091, -1.03030303, -1.15151515,\n",
       "        -1.27272727, -1.39393939, -1.51515152, -1.63636364, -1.75757576,\n",
       "        -1.87878788, -2.        , -2.12121212, -2.24242424, -2.36363636,\n",
       "        -2.48484848, -2.60606061, -2.72727273, -2.84848485, -2.96969697,\n",
       "        -3.09090909, -3.21212121, -3.33333333, -3.45454545, -3.57575758,\n",
       "        -3.6969697 , -3.81818182, -3.93939394, -4.06060606, -4.18181818,\n",
       "        -4.3030303 , -4.42424242, -4.54545455, -4.66666667, -4.78787879,\n",
       "        -4.90909091, -5.03030303, -5.15151515, -5.27272727, -5.39393939,\n",
       "        -5.51515152, -5.63636364, -5.75757576, -5.87878788, -6.        ]),\n",
       " array([        nan,         nan,         nan,         nan,         nan,\n",
       "                nan,         nan,         nan,         nan,         nan,\n",
       "                nan,         nan,         nan,         nan,         nan,\n",
       "                nan,         nan,  0.69366807,  1.19226155,  1.52722463,\n",
       "         1.79275145,  2.01646118,  2.21108319,  2.38375278,  2.53895274,\n",
       "         2.67972012,  2.80822614,  2.92608672,  3.03454249,  3.13456983,\n",
       "         3.22695261,  3.31233053,  3.39123269,  3.46410162,  3.53131082,\n",
       "         3.5931779 ,  3.64997453,  3.70193407,  3.74925766,  3.79211884,\n",
       "         3.83066742,  3.86503243,  3.8953246 ,  3.92163831,  3.94405319,\n",
       "         3.9626354 ,  3.97743867,  3.98850506,  3.99586563,  3.99954084,\n",
       "         3.99954084,  3.99586563,  3.98850506,  3.97743867,  3.9626354 ,\n",
       "         3.94405319,  3.92163831,  3.8953246 ,  3.86503243,  3.83066742,\n",
       "         3.79211884,  3.74925766,  3.70193407,  3.64997453,  3.5931779 ,\n",
       "         3.53131082,  3.46410162,  3.39123269,  3.31233053,  3.22695261,\n",
       "         3.13456983,  3.03454249,  2.92608672,  2.80822614,  2.67972012,\n",
       "         2.53895274,  2.38375278,  2.21108319,  2.01646118,  1.79275145,\n",
       "         1.52722463,  1.19226155,  0.69366807,         nan,         nan,\n",
       "                nan,         nan,         nan,         nan,         nan,\n",
       "                nan,         nan,         nan,         nan,         nan,\n",
       "                nan,         nan,         nan,         nan,         nan,\n",
       "                nan,         nan,         nan,         nan,         nan,\n",
       "                nan,         nan,         nan,         nan,         nan,\n",
       "                nan,         nan,         nan,         nan,         nan,\n",
       "                nan,         nan, -0.69366807, -1.19226155, -1.52722463,\n",
       "        -1.79275145, -2.01646118, -2.21108319, -2.38375278, -2.53895274,\n",
       "        -2.67972012, -2.80822614, -2.92608672, -3.03454249, -3.13456983,\n",
       "        -3.22695261, -3.31233053, -3.39123269, -3.46410162, -3.53131082,\n",
       "        -3.5931779 , -3.64997453, -3.70193407, -3.74925766, -3.79211884,\n",
       "        -3.83066742, -3.86503243, -3.8953246 , -3.92163831, -3.94405319,\n",
       "        -3.9626354 , -3.97743867, -3.98850506, -3.99586563, -3.99954084,\n",
       "        -3.99954084, -3.99586563, -3.98850506, -3.97743867, -3.9626354 ,\n",
       "        -3.94405319, -3.92163831, -3.8953246 , -3.86503243, -3.83066742,\n",
       "        -3.79211884, -3.74925766, -3.70193407, -3.64997453, -3.5931779 ,\n",
       "        -3.53131082, -3.46410162, -3.39123269, -3.31233053, -3.22695261,\n",
       "        -3.13456983, -3.03454249, -2.92608672, -2.80822614, -2.67972012,\n",
       "        -2.53895274, -2.38375278, -2.21108319, -2.01646118, -1.79275145,\n",
       "        -1.52722463, -1.19226155, -0.69366807,         nan,         nan,\n",
       "                nan,         nan,         nan,         nan,         nan,\n",
       "                nan,         nan,         nan,         nan,         nan,\n",
       "                nan,         nan,         nan,         nan,         nan]))"
      ]
     },
     "execution_count": 60,
     "metadata": {},
     "output_type": "execute_result"
    }
   ],
   "source": [
    "x1, y1"
   ]
  },
  {
   "cell_type": "code",
   "execution_count": 61,
   "id": "791bd747-308a-4d0a-b488-bf39d826e0bb",
   "metadata": {},
   "outputs": [
    {
     "data": {
      "text/plain": [
       "<matplotlib.collections.PathCollection at 0x28aa73bc250>"
      ]
     },
     "execution_count": 61,
     "metadata": {},
     "output_type": "execute_result"
    },
    {
     "data": {
      "image/png": "[encoded data removed]",
      "text/plain": [
       "<Figure size 640x480 with 1 Axes>"
      ]
     },
     "metadata": {},
     "output_type": "display_data"
    }
   ],
   "source": [
    "plt.scatter(y, x)\n",
    "plt.scatter(y1,x1)"
   ]
  },
  {
   "cell_type": "code",
   "execution_count": 62,
   "id": "ef13f99f-bb00-49e2-8675-9f37d5004bf4",
   "metadata": {},
   "outputs": [
    {
     "data": {
      "text/html": [
       "<div>\n",
       "<style scoped>\n",
       "    .dataframe tbody tr th:only-of-type {\n",
       "        vertical-align: middle;\n",
       "    }\n",
       "\n",
       "    .dataframe tbody tr th {\n",
       "        vertical-align: top;\n",
       "    }\n",
       "\n",
       "    .dataframe thead th {\n",
       "        text-align: right;\n",
       "    }\n",
       "</style>\n",
       "<table border=\"1\" class=\"dataframe\">\n",
       "  <thead>\n",
       "    <tr style=\"text-align: right;\">\n",
       "      <th></th>\n",
       "      <th>x1</th>\n",
       "      <th>x2</th>\n",
       "      <th>y</th>\n",
       "    </tr>\n",
       "  </thead>\n",
       "  <tbody>\n",
       "    <tr>\n",
       "      <th>0</th>\n",
       "      <td>8.000000</td>\n",
       "      <td>-6.000000</td>\n",
       "      <td>0</td>\n",
       "    </tr>\n",
       "    <tr>\n",
       "      <th>1</th>\n",
       "      <td>8.089490</td>\n",
       "      <td>-5.878788</td>\n",
       "      <td>0</td>\n",
       "    </tr>\n",
       "    <tr>\n",
       "      <th>2</th>\n",
       "      <td>8.176205</td>\n",
       "      <td>-5.757576</td>\n",
       "      <td>0</td>\n",
       "    </tr>\n",
       "    <tr>\n",
       "      <th>3</th>\n",
       "      <td>8.260230</td>\n",
       "      <td>-5.636364</td>\n",
       "      <td>0</td>\n",
       "    </tr>\n",
       "    <tr>\n",
       "      <th>4</th>\n",
       "      <td>8.341649</td>\n",
       "      <td>-5.515152</td>\n",
       "      <td>0</td>\n",
       "    </tr>\n",
       "  </tbody>\n",
       "</table>\n",
       "</div>"
      ],
      "text/plain": [
       "         x1        x2  y\n",
       "0  8.000000 -6.000000  0\n",
       "1  8.089490 -5.878788  0\n",
       "2  8.176205 -5.757576  0\n",
       "3  8.260230 -5.636364  0\n",
       "4  8.341649 -5.515152  0"
      ]
     },
     "execution_count": 62,
     "metadata": {},
     "output_type": "execute_result"
    }
   ],
   "source": [
    "df1 = pd.DataFrame(np.vstack([y,x]).T, columns = [\"x1\", \"x2\"])\n",
    "df1[\"y\"] = 0\n",
    "\n",
    "df2 = pd.DataFrame(np.vstack([y1,x1]).T, columns = [\"x1\", \"x2\"])\n",
    "df2[\"y\"] = 1\n",
    "\n",
    "df = pd.concat([df1, df2], ignore_index = True)\n",
    "df.head()"
   ]
  },
  {
   "cell_type": "code",
   "execution_count": 63,
   "id": "3a7b74de-1aa3-4743-979a-df9ee34ab96c",
   "metadata": {},
   "outputs": [
    {
     "data": {
      "text/html": [
       "<div>\n",
       "<style scoped>\n",
       "    .dataframe tbody tr th:only-of-type {\n",
       "        vertical-align: middle;\n",
       "    }\n",
       "\n",
       "    .dataframe tbody tr th {\n",
       "        vertical-align: top;\n",
       "    }\n",
       "\n",
       "    .dataframe thead th {\n",
       "        text-align: right;\n",
       "    }\n",
       "</style>\n",
       "<table border=\"1\" class=\"dataframe\">\n",
       "  <thead>\n",
       "    <tr style=\"text-align: right;\">\n",
       "      <th></th>\n",
       "      <th>x1</th>\n",
       "      <th>x2</th>\n",
       "      <th>y</th>\n",
       "    </tr>\n",
       "  </thead>\n",
       "  <tbody>\n",
       "    <tr>\n",
       "      <th>0</th>\n",
       "      <td>8.000000</td>\n",
       "      <td>-6.000000</td>\n",
       "      <td>0</td>\n",
       "    </tr>\n",
       "    <tr>\n",
       "      <th>1</th>\n",
       "      <td>8.089490</td>\n",
       "      <td>-5.878788</td>\n",
       "      <td>0</td>\n",
       "    </tr>\n",
       "    <tr>\n",
       "      <th>2</th>\n",
       "      <td>8.176205</td>\n",
       "      <td>-5.757576</td>\n",
       "      <td>0</td>\n",
       "    </tr>\n",
       "    <tr>\n",
       "      <th>3</th>\n",
       "      <td>8.260230</td>\n",
       "      <td>-5.636364</td>\n",
       "      <td>0</td>\n",
       "    </tr>\n",
       "    <tr>\n",
       "      <th>4</th>\n",
       "      <td>8.341649</td>\n",
       "      <td>-5.515152</td>\n",
       "      <td>0</td>\n",
       "    </tr>\n",
       "    <tr>\n",
       "      <th>...</th>\n",
       "      <td>...</td>\n",
       "      <td>...</td>\n",
       "      <td>...</td>\n",
       "    </tr>\n",
       "    <tr>\n",
       "      <th>395</th>\n",
       "      <td>NaN</td>\n",
       "      <td>-5.515152</td>\n",
       "      <td>1</td>\n",
       "    </tr>\n",
       "    <tr>\n",
       "      <th>396</th>\n",
       "      <td>NaN</td>\n",
       "      <td>-5.636364</td>\n",
       "      <td>1</td>\n",
       "    </tr>\n",
       "    <tr>\n",
       "      <th>397</th>\n",
       "      <td>NaN</td>\n",
       "      <td>-5.757576</td>\n",
       "      <td>1</td>\n",
       "    </tr>\n",
       "    <tr>\n",
       "      <th>398</th>\n",
       "      <td>NaN</td>\n",
       "      <td>-5.878788</td>\n",
       "      <td>1</td>\n",
       "    </tr>\n",
       "    <tr>\n",
       "      <th>399</th>\n",
       "      <td>NaN</td>\n",
       "      <td>-6.000000</td>\n",
       "      <td>1</td>\n",
       "    </tr>\n",
       "  </tbody>\n",
       "</table>\n",
       "<p>400 rows × 3 columns</p>\n",
       "</div>"
      ],
      "text/plain": [
       "           x1        x2  y\n",
       "0    8.000000 -6.000000  0\n",
       "1    8.089490 -5.878788  0\n",
       "2    8.176205 -5.757576  0\n",
       "3    8.260230 -5.636364  0\n",
       "4    8.341649 -5.515152  0\n",
       "..        ...       ... ..\n",
       "395       NaN -5.515152  1\n",
       "396       NaN -5.636364  1\n",
       "397       NaN -5.757576  1\n",
       "398       NaN -5.878788  1\n",
       "399       NaN -6.000000  1\n",
       "\n",
       "[400 rows x 3 columns]"
      ]
     },
     "execution_count": 63,
     "metadata": {},
     "output_type": "execute_result"
    }
   ],
   "source": [
    "df1= df.copy()\n",
    "df1"
   ]
  },
  {
   "cell_type": "code",
   "execution_count": 64,
   "id": "7d9adee2-41e6-4fdc-ac22-cd6b3d14993e",
   "metadata": {},
   "outputs": [
    {
     "data": {
      "text/html": [
       "<div>\n",
       "<style scoped>\n",
       "    .dataframe tbody tr th:only-of-type {\n",
       "        vertical-align: middle;\n",
       "    }\n",
       "\n",
       "    .dataframe tbody tr th {\n",
       "        vertical-align: top;\n",
       "    }\n",
       "\n",
       "    .dataframe thead th {\n",
       "        text-align: right;\n",
       "    }\n",
       "</style>\n",
       "<table border=\"1\" class=\"dataframe\">\n",
       "  <thead>\n",
       "    <tr style=\"text-align: right;\">\n",
       "      <th></th>\n",
       "      <th>x1</th>\n",
       "      <th>x2</th>\n",
       "      <th>y</th>\n",
       "      <th>x1square</th>\n",
       "      <th>x2square</th>\n",
       "      <th>x1x2</th>\n",
       "    </tr>\n",
       "  </thead>\n",
       "  <tbody>\n",
       "    <tr>\n",
       "      <th>0</th>\n",
       "      <td>8.000000</td>\n",
       "      <td>-6.000000</td>\n",
       "      <td>0</td>\n",
       "      <td>64.000000</td>\n",
       "      <td>36.000000</td>\n",
       "      <td>-48.000000</td>\n",
       "    </tr>\n",
       "    <tr>\n",
       "      <th>1</th>\n",
       "      <td>8.089490</td>\n",
       "      <td>-5.878788</td>\n",
       "      <td>0</td>\n",
       "      <td>65.439853</td>\n",
       "      <td>34.560147</td>\n",
       "      <td>-47.556397</td>\n",
       "    </tr>\n",
       "    <tr>\n",
       "      <th>2</th>\n",
       "      <td>8.176205</td>\n",
       "      <td>-5.757576</td>\n",
       "      <td>0</td>\n",
       "      <td>66.850321</td>\n",
       "      <td>33.149679</td>\n",
       "      <td>-47.075117</td>\n",
       "    </tr>\n",
       "    <tr>\n",
       "      <th>3</th>\n",
       "      <td>8.260230</td>\n",
       "      <td>-5.636364</td>\n",
       "      <td>0</td>\n",
       "      <td>68.231405</td>\n",
       "      <td>31.768595</td>\n",
       "      <td>-46.557662</td>\n",
       "    </tr>\n",
       "    <tr>\n",
       "      <th>4</th>\n",
       "      <td>8.341649</td>\n",
       "      <td>-5.515152</td>\n",
       "      <td>0</td>\n",
       "      <td>69.583104</td>\n",
       "      <td>30.416896</td>\n",
       "      <td>-46.005457</td>\n",
       "    </tr>\n",
       "  </tbody>\n",
       "</table>\n",
       "</div>"
      ],
      "text/plain": [
       "         x1        x2  y   x1square   x2square       x1x2\n",
       "0  8.000000 -6.000000  0  64.000000  36.000000 -48.000000\n",
       "1  8.089490 -5.878788  0  65.439853  34.560147 -47.556397\n",
       "2  8.176205 -5.757576  0  66.850321  33.149679 -47.075117\n",
       "3  8.260230 -5.636364  0  68.231405  31.768595 -46.557662\n",
       "4  8.341649 -5.515152  0  69.583104  30.416896 -46.005457"
      ]
     },
     "execution_count": 64,
     "metadata": {},
     "output_type": "execute_result"
    }
   ],
   "source": [
    "df1['x1square'] = df1[\"x1\"]**2\n",
    "df1['x2square'] = df1[\"x2\"]**2\n",
    "df1['x1x2'] = df1['x1']*df1[\"x2\"]\n",
    "df1.head()"
   ]
  },
  {
   "cell_type": "code",
   "execution_count": 65,
   "id": "dcf5c7e1-118f-48a6-b3b7-4501c3405371",
   "metadata": {},
   "outputs": [],
   "source": [
    "df1 = df1.dropna()"
   ]
  },
  {
   "cell_type": "code",
   "execution_count": 66,
   "id": "b409df28-f962-411d-ab16-14522871b340",
   "metadata": {},
   "outputs": [],
   "source": [
    "x = df1[['x1square', 'x2square', 'x1x2']]\n",
    "y = df1[\"y\"]"
   ]
  },
  {
   "cell_type": "code",
   "execution_count": 67,
   "id": "11a44711-4278-4d9b-ae20-f293c02a1aae",
   "metadata": {},
   "outputs": [
    {
     "data": {
      "text/plain": [
       "0      0\n",
       "1      0\n",
       "2      0\n",
       "3      0\n",
       "4      0\n",
       "      ..\n",
       "378    1\n",
       "379    1\n",
       "380    1\n",
       "381    1\n",
       "382    1\n",
       "Name: y, Length: 332, dtype: int64"
      ]
     },
     "execution_count": 67,
     "metadata": {},
     "output_type": "execute_result"
    }
   ],
   "source": [
    "y"
   ]
  },
  {
   "cell_type": "code",
   "execution_count": 68,
   "id": "07af7874-7c52-4a49-8327-9848acbeb115",
   "metadata": {},
   "outputs": [],
   "source": [
    "from sklearn.model_selection import train_test_split\n",
    "x_train, x_test, y_train, y_test = train_test_split(x, y, test_size = 0.30, random_state=1)"
   ]
  },
  {
   "cell_type": "code",
   "execution_count": 69,
   "id": "1d36ec19-dffa-4036-9679-b1ad19304fba",
   "metadata": {},
   "outputs": [
    {
     "data": {
      "text/plain": [
       "((232, 3), (100, 3))"
      ]
     },
     "execution_count": 69,
     "metadata": {},
     "output_type": "execute_result"
    }
   ],
   "source": [
    "x_train.shape, x_test.shape"
   ]
  },
  {
   "cell_type": "code",
   "execution_count": 70,
   "id": "bf1d702b-7249-44fd-be9f-d1ae82759433",
   "metadata": {},
   "outputs": [
    {
     "data": {
      "text/plain": [
       "((232,), (100,))"
      ]
     },
     "execution_count": 70,
     "metadata": {},
     "output_type": "execute_result"
    }
   ],
   "source": [
    "y_train.shape, y_test.shape"
   ]
  },
  {
   "cell_type": "code",
   "execution_count": 71,
   "id": "b1bf8587-0921-44fb-b232-b2f3a6732b8e",
   "metadata": {},
   "outputs": [],
   "source": [
    "#pip install plotly\n"
   ]
  },
  {
   "cell_type": "code",
   "execution_count": 72,
   "id": "6de52f80-f183-4551-b3fe-e1032d466e35",
   "metadata": {},
   "outputs": [
    {
     "ename": "ModuleNotFoundError",
     "evalue": "No module named 'plotyl'",
     "output_type": "error",
     "traceback": [
      "\u001b[1;31m---------------------------------------------------------------------------\u001b[0m",
      "\u001b[1;31mModuleNotFoundError\u001b[0m                       Traceback (most recent call last)",
      "Cell \u001b[1;32mIn[72], line 1\u001b[0m\n\u001b[1;32m----> 1\u001b[0m \u001b[38;5;28;01mimport\u001b[39;00m \u001b[38;5;21;01mplotyl\u001b[39;00m\u001b[38;5;21;01m.\u001b[39;00m\u001b[38;5;21;01mexpress\u001b[39;00m \u001b[38;5;28;01mas\u001b[39;00m \u001b[38;5;21;01mpx\u001b[39;00m\n\u001b[0;32m      2\u001b[0m fig \u001b[38;5;241m=\u001b[39m px\u001b[38;5;241m.\u001b[39mscatter_3d(df1, x \u001b[38;5;241m=\u001b[39m \u001b[38;5;124m\"\u001b[39m\u001b[38;5;124mx1square\u001b[39m\u001b[38;5;124m\"\u001b[39m, y \u001b[38;5;241m=\u001b[39m \u001b[38;5;124m\"\u001b[39m\u001b[38;5;124mx2square\u001b[39m\u001b[38;5;124m\"\u001b[39m, z \u001b[38;5;241m=\u001b[39m\u001b[38;5;124m\"\u001b[39m\u001b[38;5;124mx1x2\u001b[39m\u001b[38;5;124m\"\u001b[39m, color \u001b[38;5;241m=\u001b[39m \u001b[38;5;124m\"\u001b[39m\u001b[38;5;124mY\u001b[39m\u001b[38;5;124m\"\u001b[39m)\n\u001b[0;32m      3\u001b[0m fig\u001b[38;5;241m.\u001b[39mshow()\n",
      "\u001b[1;31mModuleNotFoundError\u001b[0m: No module named 'plotyl'"
     ]
    }
   ],
   "source": [
    "import plotyl.express as px\n",
    "fig = px.scatter_3d(df1, x = \"x1square\", y = \"x2square\", z =\"x1x2\", color = \"Y\")\n",
    "fig.show()"
   ]
  },
  {
   "cell_type": "code",
   "execution_count": 75,
   "id": "27db0262-baf5-4752-809d-9dcd9205e152",
   "metadata": {},
   "outputs": [
    {
     "data": {
      "text/plain": [
       "1.0"
      ]
     },
     "execution_count": 75,
     "metadata": {},
     "output_type": "execute_result"
    }
   ],
   "source": [
    "from sklearn.svm import SVC \n",
    "from sklearn.metrics import accuracy_score\n",
    "cls = SVC(kernel  = \"linear\") # why linear >> we have created polynomial\n",
    "cls.fit(x_train, y_train)\n",
    "y_pred = cls.predict(x_test)\n",
    "accuracy_score(y_pred, y_test)"
   ]
  },
  {
   "cell_type": "code",
   "execution_count": null,
   "id": "7eb0cd5f-9815-4e1e-8bc7-8d37e09b5a3e",
   "metadata": {},
   "outputs": [],
   "source": [
    "# till now we have done it manually \n",
    "# we will use svc kernel's"
   ]
  },
  {
   "cell_type": "code",
   "execution_count": 76,
   "id": "052c77d2-13f4-489c-bc6a-c3262939df35",
   "metadata": {},
   "outputs": [],
   "source": [
    "df = df.dropna()"
   ]
  },
  {
   "cell_type": "code",
   "execution_count": 77,
   "id": "15f45a50-2751-4bc3-beb0-e7f153d3f8fb",
   "metadata": {},
   "outputs": [
    {
     "data": {
      "text/html": [
       "<div>\n",
       "<style scoped>\n",
       "    .dataframe tbody tr th:only-of-type {\n",
       "        vertical-align: middle;\n",
       "    }\n",
       "\n",
       "    .dataframe tbody tr th {\n",
       "        vertical-align: top;\n",
       "    }\n",
       "\n",
       "    .dataframe thead th {\n",
       "        text-align: right;\n",
       "    }\n",
       "</style>\n",
       "<table border=\"1\" class=\"dataframe\">\n",
       "  <thead>\n",
       "    <tr style=\"text-align: right;\">\n",
       "      <th></th>\n",
       "      <th>x1</th>\n",
       "      <th>x2</th>\n",
       "      <th>y</th>\n",
       "    </tr>\n",
       "  </thead>\n",
       "  <tbody>\n",
       "    <tr>\n",
       "      <th>0</th>\n",
       "      <td>8.000000</td>\n",
       "      <td>-6.000000</td>\n",
       "      <td>0</td>\n",
       "    </tr>\n",
       "    <tr>\n",
       "      <th>1</th>\n",
       "      <td>8.089490</td>\n",
       "      <td>-5.878788</td>\n",
       "      <td>0</td>\n",
       "    </tr>\n",
       "    <tr>\n",
       "      <th>2</th>\n",
       "      <td>8.176205</td>\n",
       "      <td>-5.757576</td>\n",
       "      <td>0</td>\n",
       "    </tr>\n",
       "    <tr>\n",
       "      <th>3</th>\n",
       "      <td>8.260230</td>\n",
       "      <td>-5.636364</td>\n",
       "      <td>0</td>\n",
       "    </tr>\n",
       "    <tr>\n",
       "      <th>4</th>\n",
       "      <td>8.341649</td>\n",
       "      <td>-5.515152</td>\n",
       "      <td>0</td>\n",
       "    </tr>\n",
       "  </tbody>\n",
       "</table>\n",
       "</div>"
      ],
      "text/plain": [
       "         x1        x2  y\n",
       "0  8.000000 -6.000000  0\n",
       "1  8.089490 -5.878788  0\n",
       "2  8.176205 -5.757576  0\n",
       "3  8.260230 -5.636364  0\n",
       "4  8.341649 -5.515152  0"
      ]
     },
     "execution_count": 77,
     "metadata": {},
     "output_type": "execute_result"
    }
   ],
   "source": [
    "df.head()"
   ]
  },
  {
   "cell_type": "code",
   "execution_count": 78,
   "id": "0c31ded9-318e-4549-afac-9f0d9c777df8",
   "metadata": {},
   "outputs": [],
   "source": [
    "x = df[['x1' , 'x2']]\n",
    "y = df[\"y\"]\n",
    "\n",
    "from sklearn.model_selection import train_test_split\n",
    "x_train, x_test, y_train, y_test = train_test_split(x, y, test_size = 0.30, random_state=1)"
   ]
  },
  {
   "cell_type": "code",
   "execution_count": 79,
   "id": "d34dfbfc-e021-4f80-9e61-753f5d2402c9",
   "metadata": {},
   "outputs": [
    {
     "data": {
      "text/plain": [
       "0.62"
      ]
     },
     "execution_count": 79,
     "metadata": {},
     "output_type": "execute_result"
    }
   ],
   "source": [
    "from sklearn.svm import SVC \n",
    "from sklearn.metrics import accuracy_score\n",
    "cls = SVC(kernel  = \"poly\") \n",
    "cls.fit(x_train, y_train)\n",
    "y_pred = cls.predict(x_test)\n",
    "accuracy_score(y_pred, y_test)"
   ]
  },
  {
   "cell_type": "code",
   "execution_count": 81,
   "id": "445a5d20-5b49-41c6-a801-7a424350671d",
   "metadata": {},
   "outputs": [
    {
     "data": {
      "text/plain": [
       "1.0"
      ]
     },
     "execution_count": 81,
     "metadata": {},
     "output_type": "execute_result"
    }
   ],
   "source": [
    "# poly kernel didn't perform well, so we used rbf\n",
    "\n",
    "from sklearn.svm import SVC \n",
    "from sklearn.metrics import accuracy_score\n",
    "cls = SVC(kernel  = \"rbf\") \n",
    "cls.fit(x_train, y_train)\n",
    "y_pred = cls.predict(x_test)\n",
    "accuracy_score(y_pred, y_test)"
   ]
  },
  {
   "cell_type": "code",
   "execution_count": 82,
   "id": "4d640b88-b1ca-420b-94f0-d4a1a4a826cc",
   "metadata": {},
   "outputs": [
    {
     "data": {
      "text/plain": [
       "0.65"
      ]
     },
     "execution_count": 82,
     "metadata": {},
     "output_type": "execute_result"
    }
   ],
   "source": [
    "from sklearn.svm import SVC \n",
    "from sklearn.metrics import accuracy_score\n",
    "cls = SVC(kernel  = \"sigmoid\") \n",
    "cls.fit(x_train, y_train)\n",
    "y_pred = cls.predict(x_test)\n",
    "accuracy_score(y_pred, y_test)"
   ]
  },
  {
   "cell_type": "code",
   "execution_count": null,
   "id": "eb676296-b204-4598-be58-6af12f2b4c4a",
   "metadata": {},
   "outputs": [],
   "source": [
    "# internal homework"
   ]
  }
 ],
 "metadata": {
  "kernelspec": {
   "display_name": "Python 3 (ipykernel)",
   "language": "python",
   "name": "python3"
  },
  "language_info": {
   "codemirror_mode": {
    "name": "ipython",
    "version": 3
   },
   "file_extension": ".py",
   "mimetype": "text/x-python",
   "name": "python",
   "nbconvert_exporter": "python",
   "pygments_lexer": "ipython3",
   "version": "3.10.14"
  }
 },
 "nbformat": 4,
 "nbformat_minor": 5
}
